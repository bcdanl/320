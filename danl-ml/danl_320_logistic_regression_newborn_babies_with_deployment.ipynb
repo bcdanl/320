{
  "cells": [
    {
      "cell_type": "markdown",
      "metadata": {},
      "source": [
        "---\n",
        "title: Logistic Regression\n",
        "subtitle: New Born Baby at Risk\n",
        "date: 2025-03-24\n",
        "from: markdown+emoji\n",
        "execute: \n",
        "  eval: false\n",
        "---"
      ]
    },
    {
      "cell_type": "markdown",
      "metadata": {
        "id": "iVFL5Qm4iv_r"
      },
      "source": [
        "# Settings"
      ]
    },
    {
      "cell_type": "code",
      "execution_count": null,
      "metadata": {
        "id": "sBzxSQ5PgyEG"
      },
      "outputs": [],
      "source": [
        "# Below is for an interactive display of Pandas DataFrame in Colab\n",
        "from google.colab import data_table\n",
        "data_table.enable_dataframe_formatter()\n",
        "\n",
        "import pandas as pd\n",
        "import numpy as np\n",
        "from tabulate import tabulate  # for table summary\n",
        "import scipy.stats as stats\n",
        "from scipy.stats import norm\n",
        "import matplotlib.pyplot as plt\n",
        "import seaborn as sns\n",
        "import statsmodels.api as sm  # for lowess smoothing\n",
        "from sklearn.metrics import precision_recall_curve\n",
        "from sklearn.metrics import roc_curve\n",
        "\n",
        "from pyspark.sql import SparkSession\n",
        "from pyspark.sql.functions import rand, col, pow, mean, avg, when, log, sqrt, exp\n",
        "from pyspark.ml.feature import VectorAssembler\n",
        "from pyspark.ml.regression import LinearRegression, GeneralizedLinearRegression\n",
        "from pyspark.ml.evaluation import BinaryClassificationEvaluator\n",
        "\n",
        "spark = SparkSession.builder.master(\"local[*]\").getOrCreate()"
      ]
    },
    {
      "cell_type": "markdown",
      "metadata": {
        "id": "AuNjZOSpl9-1"
      },
      "source": [
        "## UDFs"
      ]
    },
    {
      "cell_type": "markdown",
      "metadata": {
        "id": "ED3Mua6xi02R"
      },
      "source": [
        "### add_dummy_variables"
      ]
    },
    {
      "cell_type": "code",
      "execution_count": null,
      "metadata": {
        "id": "puffZ5WOl_-P"
      },
      "outputs": [],
      "source": [
        "#| code-fold: true\n",
        "def add_dummy_variables(var_name, reference_level, category_order=None):\n",
        "    \"\"\"\n",
        "    Creates dummy variables for the specified column in the global DataFrames dtrain and dtest.\n",
        "    Allows manual setting of category order.\n",
        "\n",
        "    Parameters:\n",
        "        var_name (str): The name of the categorical column (e.g., \"borough_name\").\n",
        "        reference_level (int): Index of the category to be used as the reference (dummy omitted).\n",
        "        category_order (list, optional): List of categories in the desired order. If None, categories are sorted.\n",
        "\n",
        "    Returns:\n",
        "        dummy_cols (list): List of dummy column names excluding the reference category.\n",
        "        ref_category (str): The category chosen as the reference.\n",
        "    \"\"\"\n",
        "    global dtrain, dtest\n",
        "\n",
        "    # Get distinct categories from the training set.\n",
        "    categories = dtrain.select(var_name).distinct().rdd.flatMap(lambda x: x).collect()\n",
        "\n",
        "    # Convert booleans to strings if present.\n",
        "    categories = [str(c) if isinstance(c, bool) else c for c in categories]\n",
        "\n",
        "    # Use manual category order if provided; otherwise, sort categories.\n",
        "    if category_order:\n",
        "        # Ensure all categories are present in the user-defined order\n",
        "        missing = set(categories) - set(category_order)\n",
        "        if missing:\n",
        "            raise ValueError(f\"These categories are missing from your custom order: {missing}\")\n",
        "        categories = category_order\n",
        "    else:\n",
        "        categories = sorted(categories)\n",
        "\n",
        "    # Validate reference_level\n",
        "    if reference_level < 0 or reference_level >= len(categories):\n",
        "        raise ValueError(f\"reference_level must be between 0 and {len(categories) - 1}\")\n",
        "\n",
        "    # Define the reference category\n",
        "    ref_category = categories[reference_level]\n",
        "    print(\"Reference category (dummy omitted):\", ref_category)\n",
        "\n",
        "    # Create dummy variables for all categories\n",
        "    for cat in categories:\n",
        "        dummy_col_name = var_name + \"_\" + str(cat).replace(\" \", \"_\")\n",
        "        dtrain = dtrain.withColumn(dummy_col_name, when(col(var_name) == cat, 1).otherwise(0))\n",
        "        dtest = dtest.withColumn(dummy_col_name, when(col(var_name) == cat, 1).otherwise(0))\n",
        "\n",
        "    # List of dummy columns, excluding the reference category\n",
        "    dummy_cols = [var_name + \"_\" + str(cat).replace(\" \", \"_\") for cat in categories if cat != ref_category]\n",
        "\n",
        "    return dummy_cols, ref_category\n",
        "\n",
        "\n",
        "# Example usage without category_order:\n",
        "# dummy_cols_year, ref_category_year = add_dummy_variables('year', 0)\n",
        "\n",
        "# Example usage with category_order:\n",
        "# custom_order_wkday = ['sunday', 'monday', 'tuesday', 'wednesday', 'thursday', 'friday', 'saturday']\n",
        "# dummy_cols_wkday, ref_category_wkday = add_dummy_variables('wkday', reference_level=0, category_order = custom_order_wkday)"
      ]
    },
    {
      "cell_type": "markdown",
      "metadata": {
        "id": "Q4N0r8Uei6Hv"
      },
      "source": [
        "### marginal_effects"
      ]
    },
    {
      "cell_type": "code",
      "execution_count": null,
      "metadata": {
        "id": "Y3W8CMmri8Uy"
      },
      "outputs": [],
      "source": [
        "#| code-fold: true\n",
        "def marginal_effects(model, means):\n",
        "    \"\"\"\n",
        "    Compute marginal effects for all predictors in a PySpark GeneralizedLinearRegression model (logit)\n",
        "    and return a formatted table with statistical significance and standard errors.\n",
        "\n",
        "    Parameters:\n",
        "        model: Fitted GeneralizedLinearRegression model (with binomial family and logit link).\n",
        "        means: List of mean values for the predictor variables.\n",
        "\n",
        "    Returns:\n",
        "        - A formatted string containing the marginal effects table.\n",
        "        - A Pandas DataFrame with marginal effects, standard errors, confidence intervals, and significance stars.\n",
        "    \"\"\"\n",
        "    global assembler_predictors  # Use the global assembler_predictors list\n",
        "\n",
        "    # Extract model coefficients, standard errors, and intercept\n",
        "    coeffs = np.array(model.coefficients)\n",
        "    std_errors = np.array(model.summary.coefficientStandardErrors)\n",
        "    intercept = model.intercept\n",
        "\n",
        "    # Compute linear combination of means and coefficients (XB)\n",
        "    XB = np.dot(means, coeffs) + intercept\n",
        "\n",
        "    # Compute derivative of logistic function (G'(XB))\n",
        "    G_prime_XB = np.exp(XB) / ((1 + np.exp(XB)) ** 2)\n",
        "\n",
        "    # Helper: significance stars.\n",
        "    def significance_stars(p):\n",
        "        if p < 0.01:\n",
        "            return \"***\"\n",
        "        elif p < 0.05:\n",
        "            return \"**\"\n",
        "        elif p < 0.1:\n",
        "            return \"*\"\n",
        "        else:\n",
        "            return \"\"\n",
        "\n",
        "    # Create lists to store results\n",
        "    results = []\n",
        "    df_results = []  # For Pandas DataFrame\n",
        "\n",
        "    for i, predictor in enumerate(assembler_predictors):\n",
        "        # Compute marginal effect\n",
        "        marginal_effect = G_prime_XB * coeffs[i]\n",
        "\n",
        "        # Compute standard error of the marginal effect\n",
        "        std_error = G_prime_XB * std_errors[i]\n",
        "\n",
        "        # Compute z-score and p-value\n",
        "        z_score = marginal_effect / std_error if std_error != 0 else np.nan\n",
        "        p_value = 2 * (1 - norm.cdf(abs(z_score))) if not np.isnan(z_score) else np.nan\n",
        "\n",
        "        # Compute confidence interval (95%)\n",
        "        ci_lower = marginal_effect - 1.96 * std_error\n",
        "        ci_upper = marginal_effect + 1.96 * std_error\n",
        "\n",
        "        # Append results for table formatting\n",
        "        results.append([\n",
        "            predictor,\n",
        "            f\"{marginal_effect: .6f}\",\n",
        "            significance_stars(p_value),\n",
        "            f\"{std_error: .6f}\",\n",
        "            f\"{ci_lower: .6f}\",\n",
        "            f\"{ci_upper: .6f}\"\n",
        "        ])\n",
        "\n",
        "        # Append results for Pandas DataFrame\n",
        "        df_results.append({\n",
        "            \"Variable\": predictor,\n",
        "            \"Marginal Effect\": marginal_effect,\n",
        "            \"Significance\": significance_stars(p_value),\n",
        "            \"Std. Error\": std_error,\n",
        "            \"95% CI Lower\": ci_lower,\n",
        "            \"95% CI Upper\": ci_upper\n",
        "        })\n",
        "\n",
        "    # Convert results to formatted table\n",
        "    table_str = tabulate(results, headers=[\"Variable\", \"Marginal Effect\", \"Significance\", \"Std. Error\", \"95% CI Lower\", \"95% CI Upper\"],\n",
        "                         tablefmt=\"pretty\", colalign=(\"left\", \"decimal\", \"left\", \"decimal\", \"decimal\", \"decimal\"))\n",
        "\n",
        "    # Convert results to Pandas DataFrame\n",
        "    df_results = pd.DataFrame(df_results)\n",
        "\n",
        "    return table_str, df_results\n",
        "\n",
        "# Example usage:\n",
        "# means = [0.5, 30]  # Mean values for x1 and x2\n",
        "# assembler_predictors = ['x1', 'x2']  # Define globally before calling the function\n",
        "# table_output, df_output = marginal_effects(fitted_model, means)\n",
        "# print(table_output)\n",
        "# display(df_output)"
      ]
    },
    {
      "cell_type": "markdown",
      "metadata": {
        "id": "4xUL1iHWjSRJ"
      },
      "source": [
        "# Data Preparation"
      ]
    },
    {
      "cell_type": "markdown",
      "metadata": {
        "id": "IHyZyH6bylEY"
      },
      "source": [
        "## Loading Data"
      ]
    },
    {
      "cell_type": "code",
      "execution_count": null,
      "metadata": {
        "colab": {
          "base_uri": "https://localhost:8080/",
          "height": 626
        },
        "id": "vE4ELK4dmFfn",
        "outputId": "f0b20786-fa16-40cd-934c-fa4add9eb33b"
      },
      "outputs": [
        {
          "name": "stdout",
          "output_type": "stream",
          "text": [
            "Warning: total number of rows (26313) exceeds max_rows (20000). Falling back to pandas display.\n"
          ]
        },
        {
          "data": {
            "application/vnd.google.colaboratory.intrinsic+json": {
              "summary": "{\n  \"name\": \"dfpd\",\n  \"rows\": 26313,\n  \"fields\": [\n    {\n      \"column\": \"PWGT\",\n      \"properties\": {\n        \"dtype\": \"number\",\n        \"std\": 39,\n        \"min\": 74,\n        \"max\": 375,\n        \"num_unique_values\": 269,\n        \"samples\": [\n          126,\n          250,\n          133\n        ],\n        \"semantic_type\": \"\",\n        \"description\": \"\"\n      }\n    },\n    {\n      \"column\": \"UPREVIS\",\n      \"properties\": {\n        \"dtype\": \"number\",\n        \"std\": 4,\n        \"min\": 0,\n        \"max\": 49,\n        \"num_unique_values\": 43,\n        \"samples\": [\n          33,\n          23,\n          26\n        ],\n        \"semantic_type\": \"\",\n        \"description\": \"\"\n      }\n    },\n    {\n      \"column\": \"CIG_REC\",\n      \"properties\": {\n        \"dtype\": \"number\",\n        \"std\": 0,\n        \"min\": 0,\n        \"max\": 1,\n        \"num_unique_values\": 2,\n        \"samples\": [\n          1,\n          0\n        ],\n        \"semantic_type\": \"\",\n        \"description\": \"\"\n      }\n    },\n    {\n      \"column\": \"GESTREC3\",\n      \"properties\": {\n        \"dtype\": \"category\",\n        \"num_unique_values\": 2,\n        \"samples\": [\n          \"< 37 weeks\",\n          \">= 37 weeks\"\n        ],\n        \"semantic_type\": \"\",\n        \"description\": \"\"\n      }\n    },\n    {\n      \"column\": \"DPLURAL\",\n      \"properties\": {\n        \"dtype\": \"category\",\n        \"num_unique_values\": 3,\n        \"samples\": [\n          \"single\",\n          \"twin\"\n        ],\n        \"semantic_type\": \"\",\n        \"description\": \"\"\n      }\n    },\n    {\n      \"column\": \"ULD_MECO\",\n      \"properties\": {\n        \"dtype\": \"number\",\n        \"std\": 0,\n        \"min\": 0,\n        \"max\": 1,\n        \"num_unique_values\": 2,\n        \"samples\": [\n          0,\n          1\n        ],\n        \"semantic_type\": \"\",\n        \"description\": \"\"\n      }\n    },\n    {\n      \"column\": \"ULD_PRECIP\",\n      \"properties\": {\n        \"dtype\": \"number\",\n        \"std\": 0,\n        \"min\": 0,\n        \"max\": 1,\n        \"num_unique_values\": 2,\n        \"samples\": [\n          1,\n          0\n        ],\n        \"semantic_type\": \"\",\n        \"description\": \"\"\n      }\n    },\n    {\n      \"column\": \"ULD_BREECH\",\n      \"properties\": {\n        \"dtype\": \"number\",\n        \"std\": 0,\n        \"min\": 0,\n        \"max\": 1,\n        \"num_unique_values\": 2,\n        \"samples\": [\n          1,\n          0\n        ],\n        \"semantic_type\": \"\",\n        \"description\": \"\"\n      }\n    },\n    {\n      \"column\": \"URF_DIAB\",\n      \"properties\": {\n        \"dtype\": \"number\",\n        \"std\": 0,\n        \"min\": 0,\n        \"max\": 1,\n        \"num_unique_values\": 2,\n        \"samples\": [\n          1,\n          0\n        ],\n        \"semantic_type\": \"\",\n        \"description\": \"\"\n      }\n    },\n    {\n      \"column\": \"URF_CHYPER\",\n      \"properties\": {\n        \"dtype\": \"number\",\n        \"std\": 0,\n        \"min\": 0,\n        \"max\": 1,\n        \"num_unique_values\": 2,\n        \"samples\": [\n          1,\n          0\n        ],\n        \"semantic_type\": \"\",\n        \"description\": \"\"\n      }\n    },\n    {\n      \"column\": \"URF_PHYPER\",\n      \"properties\": {\n        \"dtype\": \"number\",\n        \"std\": 0,\n        \"min\": 0,\n        \"max\": 1,\n        \"num_unique_values\": 2,\n        \"samples\": [\n          1,\n          0\n        ],\n        \"semantic_type\": \"\",\n        \"description\": \"\"\n      }\n    },\n    {\n      \"column\": \"URF_ECLAM\",\n      \"properties\": {\n        \"dtype\": \"number\",\n        \"std\": 0,\n        \"min\": 0,\n        \"max\": 1,\n        \"num_unique_values\": 2,\n        \"samples\": [\n          1,\n          0\n        ],\n        \"semantic_type\": \"\",\n        \"description\": \"\"\n      }\n    },\n    {\n      \"column\": \"atRisk\",\n      \"properties\": {\n        \"dtype\": \"number\",\n        \"std\": 0,\n        \"min\": 0,\n        \"max\": 1,\n        \"num_unique_values\": 2,\n        \"samples\": [\n          1,\n          0\n        ],\n        \"semantic_type\": \"\",\n        \"description\": \"\"\n      }\n    },\n    {\n      \"column\": \"DBWT\",\n      \"properties\": {\n        \"dtype\": \"number\",\n        \"std\": 582,\n        \"min\": 227,\n        \"max\": 6165,\n        \"num_unique_values\": 2542,\n        \"samples\": [\n          2908,\n          3131\n        ],\n        \"semantic_type\": \"\",\n        \"description\": \"\"\n      }\n    },\n    {\n      \"column\": \"ORIGRANDGROUP\",\n      \"properties\": {\n        \"dtype\": \"number\",\n        \"std\": 3,\n        \"min\": 0,\n        \"max\": 10,\n        \"num_unique_values\": 11,\n        \"samples\": [\n          9,\n          2\n        ],\n        \"semantic_type\": \"\",\n        \"description\": \"\"\n      }\n    }\n  ]\n}",
              "type": "dataframe",
              "variable_name": "dfpd"
            },
            "text/html": [
              "\n",
              "  <div id=\"df-c74f2656-88a8-4a3e-a096-a20d250ca5b0\" class=\"colab-df-container\">\n",
              "    <div>\n",
              "<style scoped>\n",
              "    .dataframe tbody tr th:only-of-type {\n",
              "        vertical-align: middle;\n",
              "    }\n",
              "\n",
              "    .dataframe tbody tr th {\n",
              "        vertical-align: top;\n",
              "    }\n",
              "\n",
              "    .dataframe thead th {\n",
              "        text-align: right;\n",
              "    }\n",
              "</style>\n",
              "<table border=\"1\" class=\"dataframe\">\n",
              "  <thead>\n",
              "    <tr style=\"text-align: right;\">\n",
              "      <th></th>\n",
              "      <th>PWGT</th>\n",
              "      <th>UPREVIS</th>\n",
              "      <th>CIG_REC</th>\n",
              "      <th>GESTREC3</th>\n",
              "      <th>DPLURAL</th>\n",
              "      <th>ULD_MECO</th>\n",
              "      <th>ULD_PRECIP</th>\n",
              "      <th>ULD_BREECH</th>\n",
              "      <th>URF_DIAB</th>\n",
              "      <th>URF_CHYPER</th>\n",
              "      <th>URF_PHYPER</th>\n",
              "      <th>URF_ECLAM</th>\n",
              "      <th>atRisk</th>\n",
              "      <th>DBWT</th>\n",
              "      <th>ORIGRANDGROUP</th>\n",
              "    </tr>\n",
              "  </thead>\n",
              "  <tbody>\n",
              "    <tr>\n",
              "      <th>0</th>\n",
              "      <td>155</td>\n",
              "      <td>14</td>\n",
              "      <td>0</td>\n",
              "      <td>&gt;= 37 weeks</td>\n",
              "      <td>single</td>\n",
              "      <td>1</td>\n",
              "      <td>0</td>\n",
              "      <td>0</td>\n",
              "      <td>0</td>\n",
              "      <td>0</td>\n",
              "      <td>0</td>\n",
              "      <td>0</td>\n",
              "      <td>0</td>\n",
              "      <td>3714</td>\n",
              "      <td>2</td>\n",
              "    </tr>\n",
              "    <tr>\n",
              "      <th>1</th>\n",
              "      <td>140</td>\n",
              "      <td>13</td>\n",
              "      <td>0</td>\n",
              "      <td>&gt;= 37 weeks</td>\n",
              "      <td>single</td>\n",
              "      <td>0</td>\n",
              "      <td>0</td>\n",
              "      <td>0</td>\n",
              "      <td>0</td>\n",
              "      <td>0</td>\n",
              "      <td>0</td>\n",
              "      <td>0</td>\n",
              "      <td>0</td>\n",
              "      <td>3715</td>\n",
              "      <td>4</td>\n",
              "    </tr>\n",
              "    <tr>\n",
              "      <th>2</th>\n",
              "      <td>151</td>\n",
              "      <td>15</td>\n",
              "      <td>0</td>\n",
              "      <td>&gt;= 37 weeks</td>\n",
              "      <td>single</td>\n",
              "      <td>0</td>\n",
              "      <td>0</td>\n",
              "      <td>0</td>\n",
              "      <td>0</td>\n",
              "      <td>0</td>\n",
              "      <td>0</td>\n",
              "      <td>0</td>\n",
              "      <td>0</td>\n",
              "      <td>3447</td>\n",
              "      <td>2</td>\n",
              "    </tr>\n",
              "    <tr>\n",
              "      <th>3</th>\n",
              "      <td>118</td>\n",
              "      <td>4</td>\n",
              "      <td>0</td>\n",
              "      <td>&gt;= 37 weeks</td>\n",
              "      <td>single</td>\n",
              "      <td>0</td>\n",
              "      <td>0</td>\n",
              "      <td>0</td>\n",
              "      <td>0</td>\n",
              "      <td>0</td>\n",
              "      <td>0</td>\n",
              "      <td>0</td>\n",
              "      <td>0</td>\n",
              "      <td>3175</td>\n",
              "      <td>6</td>\n",
              "    </tr>\n",
              "    <tr>\n",
              "      <th>4</th>\n",
              "      <td>134</td>\n",
              "      <td>11</td>\n",
              "      <td>0</td>\n",
              "      <td>&gt;= 37 weeks</td>\n",
              "      <td>single</td>\n",
              "      <td>0</td>\n",
              "      <td>0</td>\n",
              "      <td>0</td>\n",
              "      <td>0</td>\n",
              "      <td>0</td>\n",
              "      <td>0</td>\n",
              "      <td>0</td>\n",
              "      <td>0</td>\n",
              "      <td>4038</td>\n",
              "      <td>10</td>\n",
              "    </tr>\n",
              "    <tr>\n",
              "      <th>...</th>\n",
              "      <td>...</td>\n",
              "      <td>...</td>\n",
              "      <td>...</td>\n",
              "      <td>...</td>\n",
              "      <td>...</td>\n",
              "      <td>...</td>\n",
              "      <td>...</td>\n",
              "      <td>...</td>\n",
              "      <td>...</td>\n",
              "      <td>...</td>\n",
              "      <td>...</td>\n",
              "      <td>...</td>\n",
              "      <td>...</td>\n",
              "      <td>...</td>\n",
              "      <td>...</td>\n",
              "    </tr>\n",
              "    <tr>\n",
              "      <th>26308</th>\n",
              "      <td>135</td>\n",
              "      <td>11</td>\n",
              "      <td>0</td>\n",
              "      <td>&gt;= 37 weeks</td>\n",
              "      <td>single</td>\n",
              "      <td>0</td>\n",
              "      <td>0</td>\n",
              "      <td>0</td>\n",
              "      <td>0</td>\n",
              "      <td>0</td>\n",
              "      <td>0</td>\n",
              "      <td>0</td>\n",
              "      <td>0</td>\n",
              "      <td>3771</td>\n",
              "      <td>9</td>\n",
              "    </tr>\n",
              "    <tr>\n",
              "      <th>26309</th>\n",
              "      <td>135</td>\n",
              "      <td>12</td>\n",
              "      <td>0</td>\n",
              "      <td>&gt;= 37 weeks</td>\n",
              "      <td>single</td>\n",
              "      <td>1</td>\n",
              "      <td>0</td>\n",
              "      <td>0</td>\n",
              "      <td>0</td>\n",
              "      <td>0</td>\n",
              "      <td>0</td>\n",
              "      <td>0</td>\n",
              "      <td>0</td>\n",
              "      <td>3210</td>\n",
              "      <td>8</td>\n",
              "    </tr>\n",
              "    <tr>\n",
              "      <th>26310</th>\n",
              "      <td>153</td>\n",
              "      <td>11</td>\n",
              "      <td>0</td>\n",
              "      <td>&gt;= 37 weeks</td>\n",
              "      <td>single</td>\n",
              "      <td>0</td>\n",
              "      <td>0</td>\n",
              "      <td>0</td>\n",
              "      <td>0</td>\n",
              "      <td>0</td>\n",
              "      <td>0</td>\n",
              "      <td>0</td>\n",
              "      <td>0</td>\n",
              "      <td>3515</td>\n",
              "      <td>5</td>\n",
              "    </tr>\n",
              "    <tr>\n",
              "      <th>26311</th>\n",
              "      <td>132</td>\n",
              "      <td>10</td>\n",
              "      <td>0</td>\n",
              "      <td>&gt;= 37 weeks</td>\n",
              "      <td>single</td>\n",
              "      <td>0</td>\n",
              "      <td>0</td>\n",
              "      <td>0</td>\n",
              "      <td>0</td>\n",
              "      <td>0</td>\n",
              "      <td>0</td>\n",
              "      <td>0</td>\n",
              "      <td>0</td>\n",
              "      <td>3147</td>\n",
              "      <td>9</td>\n",
              "    </tr>\n",
              "    <tr>\n",
              "      <th>26312</th>\n",
              "      <td>170</td>\n",
              "      <td>8</td>\n",
              "      <td>0</td>\n",
              "      <td>&gt;= 37 weeks</td>\n",
              "      <td>single</td>\n",
              "      <td>1</td>\n",
              "      <td>0</td>\n",
              "      <td>0</td>\n",
              "      <td>0</td>\n",
              "      <td>0</td>\n",
              "      <td>0</td>\n",
              "      <td>0</td>\n",
              "      <td>0</td>\n",
              "      <td>3325</td>\n",
              "      <td>9</td>\n",
              "    </tr>\n",
              "  </tbody>\n",
              "</table>\n",
              "<p>26313 rows × 15 columns</p>\n",
              "</div>\n",
              "    <div class=\"colab-df-buttons\">\n",
              "\n",
              "  <div class=\"colab-df-container\">\n",
              "    <button class=\"colab-df-convert\" onclick=\"convertToInteractive('df-c74f2656-88a8-4a3e-a096-a20d250ca5b0')\"\n",
              "            title=\"Convert this dataframe to an interactive table.\"\n",
              "            style=\"display:none;\">\n",
              "\n",
              "  <svg xmlns=\"http://www.w3.org/2000/svg\" height=\"24px\" viewBox=\"0 -960 960 960\">\n",
              "    <path d=\"M120-120v-720h720v720H120Zm60-500h600v-160H180v160Zm220 220h160v-160H400v160Zm0 220h160v-160H400v160ZM180-400h160v-160H180v160Zm440 0h160v-160H620v160ZM180-180h160v-160H180v160Zm440 0h160v-160H620v160Z\"/>\n",
              "  </svg>\n",
              "    </button>\n",
              "\n",
              "  <style>\n",
              "    .colab-df-container {\n",
              "      display:flex;\n",
              "      gap: 12px;\n",
              "    }\n",
              "\n",
              "    .colab-df-convert {\n",
              "      background-color: #E8F0FE;\n",
              "      border: none;\n",
              "      border-radius: 50%;\n",
              "      cursor: pointer;\n",
              "      display: none;\n",
              "      fill: #1967D2;\n",
              "      height: 32px;\n",
              "      padding: 0 0 0 0;\n",
              "      width: 32px;\n",
              "    }\n",
              "\n",
              "    .colab-df-convert:hover {\n",
              "      background-color: #E2EBFA;\n",
              "      box-shadow: 0px 1px 2px rgba(60, 64, 67, 0.3), 0px 1px 3px 1px rgba(60, 64, 67, 0.15);\n",
              "      fill: #174EA6;\n",
              "    }\n",
              "\n",
              "    .colab-df-buttons div {\n",
              "      margin-bottom: 4px;\n",
              "    }\n",
              "\n",
              "    [theme=dark] .colab-df-convert {\n",
              "      background-color: #3B4455;\n",
              "      fill: #D2E3FC;\n",
              "    }\n",
              "\n",
              "    [theme=dark] .colab-df-convert:hover {\n",
              "      background-color: #434B5C;\n",
              "      box-shadow: 0px 1px 3px 1px rgba(0, 0, 0, 0.15);\n",
              "      filter: drop-shadow(0px 1px 2px rgba(0, 0, 0, 0.3));\n",
              "      fill: #FFFFFF;\n",
              "    }\n",
              "  </style>\n",
              "\n",
              "    <script>\n",
              "      const buttonEl =\n",
              "        document.querySelector('#df-c74f2656-88a8-4a3e-a096-a20d250ca5b0 button.colab-df-convert');\n",
              "      buttonEl.style.display =\n",
              "        google.colab.kernel.accessAllowed ? 'block' : 'none';\n",
              "\n",
              "      async function convertToInteractive(key) {\n",
              "        const element = document.querySelector('#df-c74f2656-88a8-4a3e-a096-a20d250ca5b0');\n",
              "        const dataTable =\n",
              "          await google.colab.kernel.invokeFunction('convertToInteractive',\n",
              "                                                    [key], {});\n",
              "        if (!dataTable) return;\n",
              "\n",
              "        const docLinkHtml = 'Like what you see? Visit the ' +\n",
              "          '<a target=\"_blank\" href=https://colab.research.google.com/notebooks/data_table.ipynb>data table notebook</a>'\n",
              "          + ' to learn more about interactive tables.';\n",
              "        element.innerHTML = '';\n",
              "        dataTable['output_type'] = 'display_data';\n",
              "        await google.colab.output.renderOutput(dataTable, element);\n",
              "        const docLink = document.createElement('div');\n",
              "        docLink.innerHTML = docLinkHtml;\n",
              "        element.appendChild(docLink);\n",
              "      }\n",
              "    </script>\n",
              "  </div>\n",
              "\n",
              "\n",
              "<div id=\"df-d1b9a21a-adcb-42fd-a25c-686347e90ef8\">\n",
              "  <button class=\"colab-df-quickchart\" onclick=\"quickchart('df-d1b9a21a-adcb-42fd-a25c-686347e90ef8')\"\n",
              "            title=\"Suggest charts\"\n",
              "            style=\"display:none;\">\n",
              "\n",
              "<svg xmlns=\"http://www.w3.org/2000/svg\" height=\"24px\"viewBox=\"0 0 24 24\"\n",
              "     width=\"24px\">\n",
              "    <g>\n",
              "        <path d=\"M19 3H5c-1.1 0-2 .9-2 2v14c0 1.1.9 2 2 2h14c1.1 0 2-.9 2-2V5c0-1.1-.9-2-2-2zM9 17H7v-7h2v7zm4 0h-2V7h2v10zm4 0h-2v-4h2v4z\"/>\n",
              "    </g>\n",
              "</svg>\n",
              "  </button>\n",
              "\n",
              "<style>\n",
              "  .colab-df-quickchart {\n",
              "      --bg-color: #E8F0FE;\n",
              "      --fill-color: #1967D2;\n",
              "      --hover-bg-color: #E2EBFA;\n",
              "      --hover-fill-color: #174EA6;\n",
              "      --disabled-fill-color: #AAA;\n",
              "      --disabled-bg-color: #DDD;\n",
              "  }\n",
              "\n",
              "  [theme=dark] .colab-df-quickchart {\n",
              "      --bg-color: #3B4455;\n",
              "      --fill-color: #D2E3FC;\n",
              "      --hover-bg-color: #434B5C;\n",
              "      --hover-fill-color: #FFFFFF;\n",
              "      --disabled-bg-color: #3B4455;\n",
              "      --disabled-fill-color: #666;\n",
              "  }\n",
              "\n",
              "  .colab-df-quickchart {\n",
              "    background-color: var(--bg-color);\n",
              "    border: none;\n",
              "    border-radius: 50%;\n",
              "    cursor: pointer;\n",
              "    display: none;\n",
              "    fill: var(--fill-color);\n",
              "    height: 32px;\n",
              "    padding: 0;\n",
              "    width: 32px;\n",
              "  }\n",
              "\n",
              "  .colab-df-quickchart:hover {\n",
              "    background-color: var(--hover-bg-color);\n",
              "    box-shadow: 0 1px 2px rgba(60, 64, 67, 0.3), 0 1px 3px 1px rgba(60, 64, 67, 0.15);\n",
              "    fill: var(--button-hover-fill-color);\n",
              "  }\n",
              "\n",
              "  .colab-df-quickchart-complete:disabled,\n",
              "  .colab-df-quickchart-complete:disabled:hover {\n",
              "    background-color: var(--disabled-bg-color);\n",
              "    fill: var(--disabled-fill-color);\n",
              "    box-shadow: none;\n",
              "  }\n",
              "\n",
              "  .colab-df-spinner {\n",
              "    border: 2px solid var(--fill-color);\n",
              "    border-color: transparent;\n",
              "    border-bottom-color: var(--fill-color);\n",
              "    animation:\n",
              "      spin 1s steps(1) infinite;\n",
              "  }\n",
              "\n",
              "  @keyframes spin {\n",
              "    0% {\n",
              "      border-color: transparent;\n",
              "      border-bottom-color: var(--fill-color);\n",
              "      border-left-color: var(--fill-color);\n",
              "    }\n",
              "    20% {\n",
              "      border-color: transparent;\n",
              "      border-left-color: var(--fill-color);\n",
              "      border-top-color: var(--fill-color);\n",
              "    }\n",
              "    30% {\n",
              "      border-color: transparent;\n",
              "      border-left-color: var(--fill-color);\n",
              "      border-top-color: var(--fill-color);\n",
              "      border-right-color: var(--fill-color);\n",
              "    }\n",
              "    40% {\n",
              "      border-color: transparent;\n",
              "      border-right-color: var(--fill-color);\n",
              "      border-top-color: var(--fill-color);\n",
              "    }\n",
              "    60% {\n",
              "      border-color: transparent;\n",
              "      border-right-color: var(--fill-color);\n",
              "    }\n",
              "    80% {\n",
              "      border-color: transparent;\n",
              "      border-right-color: var(--fill-color);\n",
              "      border-bottom-color: var(--fill-color);\n",
              "    }\n",
              "    90% {\n",
              "      border-color: transparent;\n",
              "      border-bottom-color: var(--fill-color);\n",
              "    }\n",
              "  }\n",
              "</style>\n",
              "\n",
              "  <script>\n",
              "    async function quickchart(key) {\n",
              "      const quickchartButtonEl =\n",
              "        document.querySelector('#' + key + ' button');\n",
              "      quickchartButtonEl.disabled = true;  // To prevent multiple clicks.\n",
              "      quickchartButtonEl.classList.add('colab-df-spinner');\n",
              "      try {\n",
              "        const charts = await google.colab.kernel.invokeFunction(\n",
              "            'suggestCharts', [key], {});\n",
              "      } catch (error) {\n",
              "        console.error('Error during call to suggestCharts:', error);\n",
              "      }\n",
              "      quickchartButtonEl.classList.remove('colab-df-spinner');\n",
              "      quickchartButtonEl.classList.add('colab-df-quickchart-complete');\n",
              "    }\n",
              "    (() => {\n",
              "      let quickchartButtonEl =\n",
              "        document.querySelector('#df-d1b9a21a-adcb-42fd-a25c-686347e90ef8 button');\n",
              "      quickchartButtonEl.style.display =\n",
              "        google.colab.kernel.accessAllowed ? 'block' : 'none';\n",
              "    })();\n",
              "  </script>\n",
              "</div>\n",
              "\n",
              "  <div id=\"id_a35386cd-a43d-4fd4-833b-c3a89eaa283e\">\n",
              "    <style>\n",
              "      .colab-df-generate {\n",
              "        background-color: #E8F0FE;\n",
              "        border: none;\n",
              "        border-radius: 50%;\n",
              "        cursor: pointer;\n",
              "        display: none;\n",
              "        fill: #1967D2;\n",
              "        height: 32px;\n",
              "        padding: 0 0 0 0;\n",
              "        width: 32px;\n",
              "      }\n",
              "\n",
              "      .colab-df-generate:hover {\n",
              "        background-color: #E2EBFA;\n",
              "        box-shadow: 0px 1px 2px rgba(60, 64, 67, 0.3), 0px 1px 3px 1px rgba(60, 64, 67, 0.15);\n",
              "        fill: #174EA6;\n",
              "      }\n",
              "\n",
              "      [theme=dark] .colab-df-generate {\n",
              "        background-color: #3B4455;\n",
              "        fill: #D2E3FC;\n",
              "      }\n",
              "\n",
              "      [theme=dark] .colab-df-generate:hover {\n",
              "        background-color: #434B5C;\n",
              "        box-shadow: 0px 1px 3px 1px rgba(0, 0, 0, 0.15);\n",
              "        filter: drop-shadow(0px 1px 2px rgba(0, 0, 0, 0.3));\n",
              "        fill: #FFFFFF;\n",
              "      }\n",
              "    </style>\n",
              "    <button class=\"colab-df-generate\" onclick=\"generateWithVariable('dfpd')\"\n",
              "            title=\"Generate code using this dataframe.\"\n",
              "            style=\"display:none;\">\n",
              "\n",
              "  <svg xmlns=\"http://www.w3.org/2000/svg\" height=\"24px\"viewBox=\"0 0 24 24\"\n",
              "       width=\"24px\">\n",
              "    <path d=\"M7,19H8.4L18.45,9,17,7.55,7,17.6ZM5,21V16.75L18.45,3.32a2,2,0,0,1,2.83,0l1.4,1.43a1.91,1.91,0,0,1,.58,1.4,1.91,1.91,0,0,1-.58,1.4L9.25,21ZM18.45,9,17,7.55Zm-12,3A5.31,5.31,0,0,0,4.9,8.1,5.31,5.31,0,0,0,1,6.5,5.31,5.31,0,0,0,4.9,4.9,5.31,5.31,0,0,0,6.5,1,5.31,5.31,0,0,0,8.1,4.9,5.31,5.31,0,0,0,12,6.5,5.46,5.46,0,0,0,6.5,12Z\"/>\n",
              "  </svg>\n",
              "    </button>\n",
              "    <script>\n",
              "      (() => {\n",
              "      const buttonEl =\n",
              "        document.querySelector('#id_a35386cd-a43d-4fd4-833b-c3a89eaa283e button.colab-df-generate');\n",
              "      buttonEl.style.display =\n",
              "        google.colab.kernel.accessAllowed ? 'block' : 'none';\n",
              "\n",
              "      buttonEl.onclick = () => {\n",
              "        google.colab.notebook.generateWithVariable('dfpd');\n",
              "      }\n",
              "      })();\n",
              "    </script>\n",
              "  </div>\n",
              "\n",
              "    </div>\n",
              "  </div>\n"
            ],
            "text/plain": [
              "       PWGT  UPREVIS  CIG_REC     GESTREC3 DPLURAL  ULD_MECO  ULD_PRECIP  \\\n",
              "0       155       14        0  >= 37 weeks  single         1           0   \n",
              "1       140       13        0  >= 37 weeks  single         0           0   \n",
              "2       151       15        0  >= 37 weeks  single         0           0   \n",
              "3       118        4        0  >= 37 weeks  single         0           0   \n",
              "4       134       11        0  >= 37 weeks  single         0           0   \n",
              "...     ...      ...      ...          ...     ...       ...         ...   \n",
              "26308   135       11        0  >= 37 weeks  single         0           0   \n",
              "26309   135       12        0  >= 37 weeks  single         1           0   \n",
              "26310   153       11        0  >= 37 weeks  single         0           0   \n",
              "26311   132       10        0  >= 37 weeks  single         0           0   \n",
              "26312   170        8        0  >= 37 weeks  single         1           0   \n",
              "\n",
              "       ULD_BREECH  URF_DIAB  URF_CHYPER  URF_PHYPER  URF_ECLAM  atRisk  DBWT  \\\n",
              "0               0         0           0           0          0       0  3714   \n",
              "1               0         0           0           0          0       0  3715   \n",
              "2               0         0           0           0          0       0  3447   \n",
              "3               0         0           0           0          0       0  3175   \n",
              "4               0         0           0           0          0       0  4038   \n",
              "...           ...       ...         ...         ...        ...     ...   ...   \n",
              "26308           0         0           0           0          0       0  3771   \n",
              "26309           0         0           0           0          0       0  3210   \n",
              "26310           0         0           0           0          0       0  3515   \n",
              "26311           0         0           0           0          0       0  3147   \n",
              "26312           0         0           0           0          0       0  3325   \n",
              "\n",
              "       ORIGRANDGROUP  \n",
              "0                  2  \n",
              "1                  4  \n",
              "2                  2  \n",
              "3                  6  \n",
              "4                 10  \n",
              "...              ...  \n",
              "26308              9  \n",
              "26309              8  \n",
              "26310              5  \n",
              "26311              9  \n",
              "26312              9  \n",
              "\n",
              "[26313 rows x 15 columns]"
            ]
          },
          "execution_count": 5,
          "metadata": {},
          "output_type": "execute_result"
        }
      ],
      "source": [
        "dfpd = pd.read_csv('https://bcdanl.github.io/data/NatalRiskData.csv')\n",
        "df = spark.createDataFrame(dfpd)\n",
        "dfpd"
      ]
    },
    {
      "cell_type": "markdown",
      "metadata": {
        "id": "b20rx5MojrgT"
      },
      "source": [
        "## Training-Test Data Split"
      ]
    },
    {
      "cell_type": "code",
      "execution_count": null,
      "metadata": {
        "id": "nPI95BMJn_WJ"
      },
      "outputs": [],
      "source": [
        "dtrain, dtest = df.randomSplit([0.5, 0.5], seed = 1234)"
      ]
    },
    {
      "cell_type": "markdown",
      "metadata": {
        "id": "g1NqU73wj2oV"
      },
      "source": [
        "## Adding Dummies"
      ]
    },
    {
      "cell_type": "code",
      "execution_count": null,
      "metadata": {
        "colab": {
          "base_uri": "https://localhost:8080/"
        },
        "id": "x-ytLuMak7xX",
        "outputId": "4d8c7e50-70bd-4c7c-f87c-304690f558ff"
      },
      "outputs": [
        {
          "data": {
            "text/plain": [
              "array(['>= 37 weeks', '< 37 weeks'], dtype=object)"
            ]
          },
          "execution_count": 7,
          "metadata": {},
          "output_type": "execute_result"
        }
      ],
      "source": [
        "dfpd['GESTREC3'].unique() # to see categories in GESTREC3 using the pandas' unique() method"
      ]
    },
    {
      "cell_type": "code",
      "execution_count": null,
      "metadata": {
        "colab": {
          "base_uri": "https://localhost:8080/"
        },
        "id": "Jr13pe_CoBoM",
        "outputId": "258c5f2e-8d68-4392-c365-76f529f24db7"
      },
      "outputs": [
        {
          "data": {
            "text/plain": [
              "array(['single', 'twin', 'triplet or higher'], dtype=object)"
            ]
          },
          "execution_count": 8,
          "metadata": {},
          "output_type": "execute_result"
        }
      ],
      "source": [
        "dfpd['DPLURAL'].unique() # to see categories in DPLURAL"
      ]
    },
    {
      "cell_type": "code",
      "execution_count": null,
      "metadata": {
        "colab": {
          "base_uri": "https://localhost:8080/"
        },
        "id": "7xOvJVa6n3-X",
        "outputId": "dc6e8111-ed9a-48e5-bc9e-ba37bf5f1298"
      },
      "outputs": [
        {
          "name": "stdout",
          "output_type": "stream",
          "text": [
            "Reference category (dummy omitted): >= 37 weeks\n",
            "Reference category (dummy omitted): single\n"
          ]
        }
      ],
      "source": [
        "dummy_cols_GESTREC3, ref_category_GESTREC3 = add_dummy_variables('GESTREC3', 1)\n",
        "dummy_cols_DPLURAL, ref_category_DPLURAL = add_dummy_variables('DPLURAL', 0)"
      ]
    },
    {
      "cell_type": "markdown",
      "metadata": {
        "id": "5TclIGghj5uQ"
      },
      "source": [
        "# Model"
      ]
    },
    {
      "cell_type": "markdown",
      "metadata": {
        "id": "19uDTIVYlUM2"
      },
      "source": [
        "## Assembling Predictors"
      ]
    },
    {
      "cell_type": "code",
      "execution_count": null,
      "metadata": {
        "id": "wA5TR2evntn0"
      },
      "outputs": [],
      "source": [
        "# assembling predictors\n",
        "x_cols = ['PWGT', 'UPREVIS', 'CIG_REC',\n",
        "          'ULD_MECO', 'ULD_PRECIP', 'ULD_BREECH', 'URF_DIAB',\n",
        "          'URF_CHYPER', 'URF_PHYPER', 'URF_ECLAM']\n",
        "\n",
        "# Keep the name assembler_predictors unchanged,\n",
        "#   as it will be used as a global variable in the marginal_effects UDF.\n",
        "assembler_predictors = (\n",
        "    x_cols +\n",
        "    dummy_cols_GESTREC3 + dummy_cols_DPLURAL\n",
        ")\n",
        "\n",
        "assembler_1 = VectorAssembler(\n",
        "    inputCols = assembler_predictors,\n",
        "    outputCol = \"predictors\"\n",
        ")\n",
        "\n",
        "dtrain_1 = assembler_1.transform(dtrain)\n",
        "dtest_1  = assembler_1.transform(dtest)"
      ]
    },
    {
      "cell_type": "markdown",
      "metadata": {
        "id": "uGm-_soKlYJY"
      },
      "source": [
        "## Model Fitting\n"
      ]
    },
    {
      "cell_type": "code",
      "execution_count": null,
      "metadata": {
        "id": "9VdJIl0mlZGr"
      },
      "outputs": [],
      "source": [
        "# training the model\n",
        "model_1 = (\n",
        "    GeneralizedLinearRegression(featuresCol=\"predictors\",\n",
        "                                labelCol=\"atRisk\",\n",
        "                                family=\"binomial\",\n",
        "                                link=\"logit\")\n",
        "    .fit(dtrain_1)\n",
        ")"
      ]
    },
    {
      "cell_type": "markdown",
      "metadata": {
        "id": "qMsqA4eplpng"
      },
      "source": [
        "## Making Predictions"
      ]
    },
    {
      "cell_type": "code",
      "execution_count": null,
      "metadata": {
        "id": "QHMhCkdElrLZ"
      },
      "outputs": [],
      "source": [
        "# making prediction on both training and test\n",
        "dtrain_1 = model_1.transform(dtrain_1)\n",
        "dtest_1 = model_1.transform(dtest_1)"
      ]
    },
    {
      "cell_type": "markdown",
      "metadata": {
        "id": "9DXCUF6mkbp3"
      },
      "source": [
        "## Model Summary"
      ]
    },
    {
      "cell_type": "code",
      "execution_count": null,
      "metadata": {
        "colab": {
          "base_uri": "https://localhost:8080/"
        },
        "id": "tG-hKtUjpB-j",
        "outputId": "122e0ba9-a639-4bf9-bfd7-a2a3a734a371"
      },
      "outputs": [
        {
          "data": {
            "text/plain": [
              "Coefficients:\n",
              "             Feature Estimate Std Error  T Value P Value\n",
              "         (Intercept)  -4.7385    0.3154 -15.0256  0.0000\n",
              "                PWGT   0.0029    0.0016   1.8572  0.0633\n",
              "             UPREVIS  -0.0285    0.0164  -1.7352  0.0827\n",
              "             CIG_REC   0.3991    0.1965   2.0306  0.0423\n",
              "            ULD_MECO   1.0701    0.2330   4.5921  0.0000\n",
              "          ULD_PRECIP   0.4391    0.3564   1.2318  0.2180\n",
              "          ULD_BREECH   0.3139    0.2193   1.4312  0.1524\n",
              "            URF_DIAB  -0.0954    0.2874  -0.3320  0.7399\n",
              "          URF_CHYPER   0.2442    0.4772   0.5117  0.6089\n",
              "          URF_PHYPER   0.1417    0.2728   0.5196  0.6033\n",
              "           URF_ECLAM   0.7946    0.7677   1.0350  0.3006\n",
              " GESTREC3_<_37_weeks   1.5390    0.1524  10.0977  0.0000\n",
              "DPLURAL_triplet_o...   1.5956    0.5906   2.7016  0.0069\n",
              "        DPLURAL_twin   0.5490    0.2400   2.2877  0.0222\n",
              "\n",
              "(Dispersion parameter for binomial family taken to be 1.0000)\n",
              "    Null deviance: 2332.2568 on 13108 degrees of freedom\n",
              "Residual deviance: 2158.8170 on 13108 degrees of freedom\n",
              "AIC: 2186.8170"
            ]
          },
          "execution_count": 13,
          "metadata": {},
          "output_type": "execute_result"
        }
      ],
      "source": [
        "model_1.summary"
      ]
    },
    {
      "cell_type": "markdown",
      "metadata": {
        "id": "NMVyvLbwki7x"
      },
      "source": [
        "## Marginal Effects"
      ]
    },
    {
      "cell_type": "markdown",
      "metadata": {
        "id": "2kJIpvCmsBpd"
      },
      "source": [
        "### Calculating the Mean Value of Each Predictor"
      ]
    },
    {
      "cell_type": "code",
      "execution_count": null,
      "metadata": {
        "id": "L2_IfVkDsERr"
      },
      "outputs": [],
      "source": [
        "# Compute means\n",
        "means_df = dtrain_1.select([mean(col).alias(col) for col in assembler_predictors])\n",
        "\n",
        "# Collect the results as a list\n",
        "means = means_df.collect()[0]\n",
        "means_list = [means[col] for col in assembler_predictors]"
      ]
    },
    {
      "cell_type": "code",
      "execution_count": null,
      "metadata": {
        "colab": {
          "base_uri": "https://localhost:8080/"
        },
        "id": "e5h4l96asmcp",
        "outputId": "7050bb2d-137b-4234-ba7f-d64672bc5e81"
      },
      "outputs": [
        {
          "name": "stdout",
          "output_type": "stream",
          "text": [
            "+---------------------------+-----------------+--------------+------------+--------------+--------------+\n",
            "| Variable                  | Marginal Effect | Significance | Std. Error | 95% CI Lower | 95% CI Upper |\n",
            "+---------------------------+-----------------+--------------+------------+--------------+--------------+\n",
            "| PWGT                      |          0.0000 | *            |     0.0000 |      -0.0000 |       0.0001 |\n",
            "| UPREVIS                   |         -0.0004 | *            |     0.0002 |      -0.0008 |       0.0000 |\n",
            "| CIG_REC                   |          0.0053 | **           |     0.0026 |       0.0002 |       0.0104 |\n",
            "| ULD_MECO                  |          0.0142 | ***          |     0.0031 |       0.0082 |       0.0203 |\n",
            "| ULD_PRECIP                |          0.0058 |              |     0.0047 |      -0.0035 |       0.0151 |\n",
            "| ULD_BREECH                |          0.0042 |              |     0.0029 |      -0.0015 |       0.0099 |\n",
            "| URF_DIAB                  |         -0.0013 |              |     0.0038 |      -0.0088 |       0.0062 |\n",
            "| URF_CHYPER                |          0.0033 |              |     0.0064 |      -0.0092 |       0.0157 |\n",
            "| URF_PHYPER                |          0.0019 |              |     0.0036 |      -0.0052 |       0.0090 |\n",
            "| URF_ECLAM                 |          0.0106 |              |     0.0102 |      -0.0095 |       0.0306 |\n",
            "| GESTREC3_<_37_weeks       |          0.0205 | ***          |     0.0020 |       0.0165 |       0.0245 |\n",
            "| DPLURAL_triplet_or_higher |          0.0212 | ***          |     0.0079 |       0.0058 |       0.0367 |\n",
            "| DPLURAL_twin              |          0.0073 | **           |     0.0032 |       0.0010 |       0.0136 |\n",
            "+---------------------------+-----------------+--------------+------------+--------------+--------------+\n"
          ]
        }
      ],
      "source": [
        "table_output, df_ME = marginal_effects(model_1, means_list) # Instead of mean values, some other representative values can also be chosen.\n",
        "print(table_output)"
      ]
    },
    {
      "cell_type": "markdown",
      "metadata": {
        "id": "PmPvJgv3mTQg"
      },
      "source": [
        "### Marginal Effect Plot"
      ]
    },
    {
      "cell_type": "code",
      "execution_count": null,
      "metadata": {
        "colab": {
          "base_uri": "https://localhost:8080/",
          "height": 607
        },
        "id": "Iobmykb8mYpf",
        "outputId": "063f595d-4cd1-4f2b-fb14-f269592caff5"
      },
      "outputs": [
        {
          "data": {
            "image/png": "[encoded data removed]",
            "text/plain": [
              "<Figure size 1000x600 with 1 Axes>"
            ]
          },
          "metadata": {},
          "output_type": "display_data"
        }
      ],
      "source": [
        "# Increase figure size to prevent overlapping\n",
        "plt.figure(figsize=(10, 6))\n",
        "\n",
        "# Plot using the DataFrame columns\n",
        "plt.errorbar(df_ME[\"Variable\"], df_ME[\"Marginal Effect\"],\n",
        "             yerr=1.96 * df_ME[\"Std. Error\"], fmt='o', capsize=5)\n",
        "\n",
        "# Labels and title\n",
        "plt.xlabel(\"Terms\")\n",
        "plt.ylabel(\"Marginal Effect\")\n",
        "plt.title(\"Marginal Effect at the Mean\")\n",
        "\n",
        "# Add horizontal line at 0 for reference\n",
        "plt.axhline(0, color=\"red\", linestyle=\"--\")\n",
        "\n",
        "# Adjust x-axis labels to avoid overlap\n",
        "plt.xticks(rotation=45, ha=\"right\")  # Rotate and align labels to the right\n",
        "plt.tight_layout()  # Adjust layout to prevent overlap\n",
        "\n",
        "# Show plot\n",
        "plt.show()"
      ]
    },
    {
      "cell_type": "code",
      "execution_count": null,
      "metadata": {
        "id": "PfJHmuJTbW00"
      },
      "outputs": [],
      "source": [
        "# Compute means for smokers\n",
        "means_df_smoker = (\n",
        "    dtrain_1\n",
        "    .filter(\n",
        "        ( col(\"CIG_REC\") == 1 )\n",
        "    )\n",
        "    .select([mean(col).alias(col) for col in assembler_predictors])\n",
        ")\n",
        "\n",
        "# Collect the results as a list\n",
        "means_smoker = means_df_smoker.collect()[0]\n",
        "means_list_smoker = [means_smoker[col] for col in assembler_predictors]"
      ]
    },
    {
      "cell_type": "code",
      "execution_count": null,
      "metadata": {
        "colab": {
          "base_uri": "https://localhost:8080/"
        },
        "id": "QbUpww_hb1xJ",
        "outputId": "1f25e1f5-f870-4bb3-a4c3-00df1b414bb5"
      },
      "outputs": [
        {
          "name": "stdout",
          "output_type": "stream",
          "text": [
            "+---------------------------+-----------------+--------------+------------+--------------+--------------+\n",
            "| Variable                  | Marginal Effect | Significance | Std. Error | 95% CI Lower | 95% CI Upper |\n",
            "+---------------------------+-----------------+--------------+------------+--------------+--------------+\n",
            "| PWGT                      |          0.0001 | *            |     0.0000 |      -0.0000 |       0.0001 |\n",
            "| UPREVIS                   |         -0.0006 | *            |     0.0003 |      -0.0012 |       0.0001 |\n",
            "| CIG_REC                   |          0.0081 | **           |     0.0040 |       0.0003 |       0.0160 |\n",
            "| ULD_MECO                  |          0.0218 | ***          |     0.0047 |       0.0125 |       0.0311 |\n",
            "| ULD_PRECIP                |          0.0089 |              |     0.0073 |      -0.0053 |       0.0232 |\n",
            "| ULD_BREECH                |          0.0064 |              |     0.0045 |      -0.0024 |       0.0152 |\n",
            "| URF_DIAB                  |         -0.0019 |              |     0.0059 |      -0.0134 |       0.0095 |\n",
            "| URF_CHYPER                |          0.0050 |              |     0.0097 |      -0.0141 |       0.0240 |\n",
            "| URF_PHYPER                |          0.0029 |              |     0.0056 |      -0.0080 |       0.0138 |\n",
            "| URF_ECLAM                 |          0.0162 |              |     0.0156 |      -0.0145 |       0.0469 |\n",
            "| GESTREC3_<_37_weeks       |          0.0314 | ***          |     0.0031 |       0.0253 |       0.0375 |\n",
            "| DPLURAL_triplet_or_higher |          0.0325 | ***          |     0.0120 |       0.0089 |       0.0561 |\n",
            "| DPLURAL_twin              |          0.0112 | **           |     0.0049 |       0.0016 |       0.0208 |\n",
            "+---------------------------+-----------------+--------------+------------+--------------+--------------+\n"
          ]
        }
      ],
      "source": [
        "table_output_s, df_ME_s = marginal_effects(model_1, means_list_smoker) # Instead of mean values, some other representative values can also be chosen.\n",
        "print(table_output_s)"
      ]
    },
    {
      "cell_type": "markdown",
      "metadata": {
        "id": "LV4-yzK8nZXb"
      },
      "source": [
        "# Classification"
      ]
    },
    {
      "cell_type": "markdown",
      "metadata": {
        "id": "0thPK8AAvHRP"
      },
      "source": [
        "## Classifier Threshold - Double Density Plot"
      ]
    },
    {
      "cell_type": "code",
      "execution_count": null,
      "metadata": {
        "colab": {
          "base_uri": "https://localhost:8080/",
          "height": 1000
        },
        "id": "I6UkX6qTvLC6",
        "outputId": "6e7c7024-89a4-4640-98c4-5da6e6955804"
      },
      "outputs": [
        {
          "data": {
            "image/png": "[encoded data removed]",
            "text/plain": [
              "<Figure size 800x600 with 1 Axes>"
            ]
          },
          "metadata": {},
          "output_type": "display_data"
        },
        {
          "data": {
            "image/png": "[encoded data removed]",
            "text/plain": [
              "<Figure size 800x600 with 1 Axes>"
            ]
          },
          "metadata": {},
          "output_type": "display_data"
        }
      ],
      "source": [
        "# Filter training data for atRisk == 1 and atRisk == 0\n",
        "pdf = dtrain_1.select(\"prediction\", \"atRisk\").toPandas()\n",
        "\n",
        "train_true = pdf[pdf[\"atRisk\"] == 1]\n",
        "train_false = pdf[pdf[\"atRisk\"] == 0]\n",
        "\n",
        "# Create the first density plot\n",
        "plt.figure(figsize=(8, 6))\n",
        "sns.kdeplot(train_true[\"prediction\"], label=\"TRUE\", color=\"red\", fill=True)\n",
        "sns.kdeplot(train_false[\"prediction\"], label=\"FALSE\", color=\"blue\", fill=True)\n",
        "plt.xlabel(\"Prediction\")\n",
        "plt.ylabel(\"Density\")\n",
        "plt.title(\"Density Plot of Predictions\")\n",
        "plt.legend(title=\"atRisk\")\n",
        "plt.show()\n",
        "\n",
        "# Define threshold for vertical line\n",
        "threshold = 0.02  # Replace with actual value\n",
        "\n",
        "# Create the second density plot with vertical line\n",
        "plt.figure(figsize=(8, 6))\n",
        "sns.kdeplot(train_true[\"prediction\"], label=\"TRUE\", color=\"red\", fill=True)\n",
        "sns.kdeplot(train_false[\"prediction\"], label=\"FALSE\", color=\"blue\", fill=True)\n",
        "plt.axvline(x=threshold, color=\"blue\", linestyle=\"dashed\", label=f\"Threshold = {threshold}\")\n",
        "plt.xlabel(\"Prediction\")\n",
        "plt.ylabel(\"Density\")\n",
        "plt.title(\"Density Plot of Predictions with Threshold\")\n",
        "plt.legend(title=\"atRisk\")\n",
        "plt.show()"
      ]
    },
    {
      "cell_type": "markdown",
      "metadata": {
        "id": "DAj3-fxCqeoh"
      },
      "source": [
        "## Performance of Classifier"
      ]
    },
    {
      "cell_type": "markdown",
      "metadata": {
        "id": "AMLw9nf8w37D"
      },
      "source": [
        "### Confusion Matrix & Performance Metrics"
      ]
    },
    {
      "cell_type": "code",
      "execution_count": null,
      "metadata": {
        "colab": {
          "base_uri": "https://localhost:8080/"
        },
        "id": "S1xofRZ1w5nl",
        "outputId": "b1149b49-3c79-45fc-b514-575c591d8194"
      },
      "outputs": [
        {
          "name": "stdout",
          "output_type": "stream",
          "text": [
            "\n",
            " Confusion Matrix:\n",
            "\n",
            "                     Predicted\n",
            "            |  Negative  |  Positive  \n",
            "------------+------------+------------\n",
            "Actual Neg. |    10774   |     2167  |\n",
            "------------+------------+------------\n",
            "Actual Pos. |      120   |      130  |\n",
            "------------+------------+------------\n",
            "Accuracy:  0.8266\n",
            "Precision: 0.0566\n",
            "Recall (Sensitivity): 0.5200\n",
            "Specificity:  0.8325\n",
            "Average Rate: 0.0190\n",
            "Enrichment:   2.9862 (Relative Precision)\n"
          ]
        }
      ],
      "source": [
        "# Compute confusion matrix\n",
        "dtest_1 = dtest_1.withColumn(\"predicted_class\", when(col(\"prediction\") > .02, 1).otherwise(0))\n",
        "conf_matrix = dtest_1.groupBy(\"atRisk\", \"predicted_class\").count().orderBy(\"atRisk\", \"predicted_class\")\n",
        "\n",
        "TP = dtest_1.filter((col(\"atRisk\") == 1) & (col(\"predicted_class\") == 1)).count()\n",
        "FP = dtest_1.filter((col(\"atRisk\") == 0) & (col(\"predicted_class\") == 1)).count()\n",
        "FN = dtest_1.filter((col(\"atRisk\") == 1) & (col(\"predicted_class\") == 0)).count()\n",
        "TN = dtest_1.filter((col(\"atRisk\") == 0) & (col(\"predicted_class\") == 0)).count()\n",
        "\n",
        "accuracy = (TP + TN) / (TP + FP + FN + TN)\n",
        "precision = TP / (TP + FP)\n",
        "recall = TP / (TP + FN)\n",
        "specificity = TN / (TN + FP)\n",
        "average_rate = (TP + FN) / (TP + TN + FP + FN)  # Proportion of actual at-risk babies\n",
        "enrichment = precision / average_rate\n",
        "\n",
        "\n",
        "# Print formatted confusion matrix with labels\n",
        "print(\"\\n Confusion Matrix:\\n\")\n",
        "print(\"                     Predicted\")\n",
        "print(\"            |  Negative  |  Positive  \")\n",
        "print(\"------------+------------+------------\")\n",
        "print(f\"Actual Neg. |    {TN:5}   |    {FP:5}  |\")\n",
        "print(\"------------+------------+------------\")\n",
        "print(f\"Actual Pos. |    {FN:5}   |    {TP:5}  |\")\n",
        "print(\"------------+------------+------------\")\n",
        "\n",
        "\n",
        "print(f\"Accuracy:  {accuracy:.4f}\")\n",
        "print(f\"Precision: {precision:.4f}\")\n",
        "print(f\"Recall (Sensitivity): {recall:.4f}\")\n",
        "print(f\"Specificity:  {specificity:.4f}\")\n",
        "print(f\"Average Rate: {average_rate:.4f}\")\n",
        "print(f\"Enrichment:   {enrichment:.4f} (Relative Precision)\")\n"
      ]
    },
    {
      "cell_type": "markdown",
      "metadata": {
        "id": "SGqWShT5quaU"
      },
      "source": [
        "### Trade-off Between Recall and Precision/Enrichment"
      ]
    },
    {
      "cell_type": "code",
      "execution_count": null,
      "metadata": {
        "colab": {
          "base_uri": "https://localhost:8080/",
          "height": 564
        },
        "id": "bzg0u1RMqPPH",
        "outputId": "468e5d56-d754-44c5-b723-77e5a072dbb2"
      },
      "outputs": [
        {
          "data": {
            "image/png": "[encoded data removed]",
            "text/plain": [
              "<Figure size 800x600 with 1 Axes>"
            ]
          },
          "metadata": {},
          "output_type": "display_data"
        }
      ],
      "source": [
        "pdf = dtest_1.select(\"prediction\", \"atRisk\").toPandas()\n",
        "\n",
        "# Extract predictions and true labels\n",
        "y_true = pdf[\"atRisk\"]  # True labels\n",
        "y_scores = pdf[\"prediction\"]  # Predicted probabilities\n",
        "\n",
        "# Compute precision, recall, and thresholds\n",
        "precision_plot, recall_plot, thresholds = precision_recall_curve(y_true, y_scores)\n",
        "\n",
        "# Compute enrichment: precision divided by average at-risk rate\n",
        "average_rate = np.mean(y_true)\n",
        "enrichment_plot = precision_plot / average_rate\n",
        "\n",
        "# Define optimal threshold (example: threshold where recall ≈ enrichment balance)\n",
        "threshold = 0.02  # Adjust based on the plot\n",
        "\n",
        "# Plot Enrichment vs. Recall vs. Threshold\n",
        "plt.figure(figsize=(8, 6))\n",
        "plt.plot(thresholds, enrichment_plot[:-1], label=\"Enrichment\", color=\"blue\", linestyle=\"--\")\n",
        "plt.plot(thresholds, recall_plot[:-1], label=\"Recall\", color=\"red\", linestyle=\"-\")\n",
        "\n",
        "# Add vertical line for chosen threshold\n",
        "plt.axvline(x=threshold, color=\"black\", linestyle=\"dashed\", label=f\"Threshold = {threshold}\")\n",
        "\n",
        "# Labels and legend\n",
        "plt.xlabel(\"Threshold\")\n",
        "plt.ylabel(\"Score\")\n",
        "plt.title(\"Enrichment vs. Recall\")\n",
        "plt.legend()\n",
        "plt.grid(True)\n",
        "plt.show()"
      ]
    },
    {
      "cell_type": "code",
      "execution_count": null,
      "metadata": {
        "colab": {
          "base_uri": "https://localhost:8080/",
          "height": 564
        },
        "id": "ipLeR2hDrKOw",
        "outputId": "7a611841-8488-4fc6-cbf7-29cb03a06095"
      },
      "outputs": [
        {
          "data": {
            "image/png": "[encoded data removed]",
            "text/plain": [
              "<Figure size 800x600 with 1 Axes>"
            ]
          },
          "metadata": {},
          "output_type": "display_data"
        }
      ],
      "source": [
        "# Filter the threshold range (0 to 0.15)\n",
        "mask = (thresholds >= 0) & (thresholds <= 0.15)\n",
        "thresholds_filtered = thresholds[mask]\n",
        "enrichment_filtered = enrichment[:-1][mask]\n",
        "recall_filtered = recall[:-1][mask]\n",
        "\n",
        "# Define optimal threshold (example: threshold where recall ≈ enrichment balance)\n",
        "threshold = 0.02  # Adjust based on the plot\n",
        "\n",
        "# Plot Enrichment vs. Recall vs. Threshold (Limited to 0 - 0.15)\n",
        "plt.figure(figsize=(8, 6))\n",
        "plt.plot(thresholds_filtered, enrichment_filtered, label=\"Enrichment\", color=\"blue\", linestyle=\"--\")\n",
        "plt.plot(thresholds_filtered, recall_filtered, label=\"Recall\", color=\"red\", linestyle=\"-\")\n",
        "\n",
        "# Add vertical line for chosen threshold\n",
        "plt.axvline(x=threshold, color=\"black\", linestyle=\"dashed\", label=f\"Threshold = {threshold}\")\n",
        "\n",
        "# Labels and legend\n",
        "plt.xlabel(\"Threshold\")\n",
        "plt.ylabel(\"Score\")\n",
        "plt.title(\"Enrichment vs. Recall (Threshold: 0 - 0.15)\")\n",
        "plt.legend()\n",
        "plt.grid(True)\n",
        "plt.show()"
      ]
    },
    {
      "cell_type": "markdown",
      "metadata": {
        "id": "c5TZ70dsrTvG"
      },
      "source": [
        "### AUC and ROC"
      ]
    },
    {
      "cell_type": "code",
      "execution_count": null,
      "metadata": {
        "colab": {
          "base_uri": "https://localhost:8080/",
          "height": 581
        },
        "id": "l6lC8oEZrVjd",
        "outputId": "5722795c-40bc-4ad3-a723-5d39e84cd7fa"
      },
      "outputs": [
        {
          "name": "stdout",
          "output_type": "stream",
          "text": [
            "AUC: 0.7310\n"
          ]
        },
        {
          "data": {
            "image/png": "[encoded data removed]",
            "text/plain": [
              "<Figure size 800x600 with 1 Axes>"
            ]
          },
          "metadata": {},
          "output_type": "display_data"
        }
      ],
      "source": [
        "# Use probability of the positive class (y=1)\n",
        "evaluator = BinaryClassificationEvaluator(labelCol=\"atRisk\", rawPredictionCol=\"prediction\", metricName=\"areaUnderROC\")\n",
        "\n",
        "# Evaluate AUC\n",
        "auc = evaluator.evaluate(dtest_1)\n",
        "\n",
        "print(f\"AUC: {auc:.4f}\")  # Higher is better (closer to 1)\n",
        "\n",
        "# Convert to Pandas\n",
        "pdf = dtest_1.select(\"prediction\", \"atRisk\").toPandas()\n",
        "\n",
        "# Compute ROC curve\n",
        "fpr, tpr, _ = roc_curve(pdf[\"atRisk\"], pdf[\"prediction\"])\n",
        "\n",
        "# Plot ROC curve\n",
        "plt.figure(figsize=(8,6))\n",
        "plt.plot(fpr, tpr, label=f\"ROC Curve (AUC = {auc:.4f})\")\n",
        "plt.plot([0, 1], [0, 1], 'k--', label=\"Random Guess\")\n",
        "plt.xlabel(\"False Positive Rate\")\n",
        "plt.ylabel(\"True Positive Rate\")\n",
        "plt.title(\"ROC Curve\")\n",
        "plt.legend()\n",
        "plt.show()"
      ]
    },
    {
      "cell_type": "markdown",
      "metadata": {
        "id": "5UfyyVBPtaEW"
      },
      "source": [
        "## Deploying the Classifier to the Real-World"
      ]
    },
    {
      "cell_type": "markdown",
      "metadata": {
        "id": "vsFf8pwT5Nab"
      },
      "source": [
        "### Real-world Data for NY and MA Hospitals"
      ]
    },
    {
      "cell_type": "code",
      "execution_count": null,
      "metadata": {
        "colab": {
          "base_uri": "https://localhost:8080/"
        },
        "id": "EXPJkxQ6tltn",
        "outputId": "a468e705-00a8-44b5-cab2-13c7f455afc5"
      },
      "outputs": [
        {
          "name": "stdout",
          "output_type": "stream",
          "text": [
            "Original Test Set Size: 13191\n",
            "Sampled Separated Size: 1000\n",
            "NY Hospitals Data Size: 12191\n",
            "MA More Risk Data Size: 12217\n",
            "MA Less Risk Data Size: 13165\n"
          ]
        }
      ],
      "source": [
        "pd_dtest = dtest.toPandas()\n",
        "\n",
        "# Set seed for reproducibility\n",
        "np.random.seed(23464)\n",
        "\n",
        "# Sample 1000 random indices from the test dataset without replacement\n",
        "sample_indices = np.random.choice(pd_dtest.index, size=1000, replace=False)\n",
        "\n",
        "# Separate the selected observations from testing data\n",
        "separated = pd_dtest.loc[sample_indices]\n",
        "\n",
        "# Remove the selected observations from the testing data\n",
        "# Consider this as data from NY hospitals\n",
        "pd_dtest_NY = pd_dtest.drop(sample_indices)\n",
        "\n",
        "# Split the separated sample into at-risk and not-at-risk groups\n",
        "at_risk_sample = separated[separated[\"atRisk\"] == 1]  # Only at-risk cases\n",
        "not_at_risk_sample = separated[separated[\"atRisk\"] == 0]  # Only not-at-risk cases\n",
        "\n",
        "# Create test sets for MA hospitals with different at-risk average rates compared to NY\n",
        "pd_dtest_MA_moreRisk = pd.concat([pd_dtest_NY, at_risk_sample])  # Adds back only at-risk cases\n",
        "pd_dtest_MA_lessRisk = pd.concat([pd_dtest_NY, not_at_risk_sample])  # Adds back only not-at-risk cases\n",
        "\n",
        "# Show counts to verify results\n",
        "print(\"Original Test Set Size:\", pd_dtest.shape[0])\n",
        "print(\"Sampled Separated Size:\", separated.shape[0])\n",
        "print(\"NY Hospitals Data Size:\", pd_dtest_NY.shape[0])\n",
        "print(\"MA More Risk Data Size:\", pd_dtest_MA_moreRisk.shape[0])\n",
        "print(\"MA Less Risk Data Size:\", pd_dtest_MA_lessRisk.shape[0])\n",
        "\n",
        "dtest_MA_moreRisk = spark.createDataFrame(pd_dtest_MA_moreRisk)\n",
        "dtest_MA_lessRisk = spark.createDataFrame(pd_dtest_MA_lessRisk)"
      ]
    },
    {
      "cell_type": "markdown",
      "metadata": {
        "id": "SUyYQ3tK3TI3"
      },
      "source": [
        "### MA with more at-risk babies\n",
        "\n"
      ]
    },
    {
      "cell_type": "code",
      "execution_count": null,
      "metadata": {
        "colab": {
          "base_uri": "https://localhost:8080/"
        },
        "id": "3SWo-ZhrzlJ5",
        "outputId": "a4445a49-eddd-4b27-dc46-27c98cb2a0dc"
      },
      "outputs": [
        {
          "name": "stdout",
          "output_type": "stream",
          "text": [
            "\n",
            " Confusion Matrix with More At-Risk Babies in MA:\n",
            "\n",
            "                     Predicted\n",
            "            |  Negative  |  Positive  \n",
            "------------+------------+------------\n",
            "Actual Neg. |     9965   |     2002  |\n",
            "------------+------------+------------\n",
            "Actual Pos. |      120   |      130  |\n",
            "------------+------------+------------\n",
            "Accuracy:             0.8263\n",
            "Precision:            0.0610\n",
            "Recall (Sensitivity): 0.5200\n",
            "Specificity:          0.8327\n",
            "Average Rate:         0.0205\n",
            "Enrichment:           2.9798 (Relative Precision)\n",
            "AUC: 0.7307\n"
          ]
        }
      ],
      "source": [
        "dtest_MA_moreRisk = assembler_1.transform(dtest_MA_moreRisk)\n",
        "dtest_MA_moreRisk = model_1.transform(dtest_MA_moreRisk)\n",
        "\n",
        "# Compute confusion matrix\n",
        "dtest_MA_moreRisk = dtest_MA_moreRisk.withColumn(\"predicted_class\", when(col(\"prediction\") > .02, 1).otherwise(0))\n",
        "conf_matrix_MA_moreRisk = dtest_MA_moreRisk.groupBy(\"atRisk\", \"predicted_class\").count().orderBy(\"atRisk\", \"predicted_class\")\n",
        "\n",
        "# Collect as a dictionary for easy lookup\n",
        "conf_dict_MA_moreRisk = {(row[\"atRisk\"], row[\"predicted_class\"]): row[\"count\"] for row in conf_matrix_MA_moreRisk.collect()}\n",
        "\n",
        "# Extract values safely (handle missing values if any)\n",
        "TN = conf_dict_MA_moreRisk.get((0, 0), 0)  # True Negative\n",
        "FP = conf_dict_MA_moreRisk.get((0, 1), 0)  # False Positive\n",
        "FN = conf_dict_MA_moreRisk.get((1, 0), 0)  # False Negative\n",
        "TP = conf_dict_MA_moreRisk.get((1, 1), 0)  # True Positive\n",
        "\n",
        "accuracy_moreRisk = (TP + TN) / (TP + FP + FN + TN)\n",
        "precision_moreRisk = TP / (TP + FP)\n",
        "recall_moreRisk = TP / (TP + FN) # (Recall) + (False Negative Rate) = 1\n",
        "specificity_moreRisk = TN / (TN + FP) # (Specificity) + (False Positive Rate) = 1\n",
        "average_rate_moreRisk = (TP + FN) / (TP + TN + FP + FN)  # Proportion of actual at-risk babies\n",
        "enrichment_moreRisk = precision_moreRisk / average_rate_moreRisk\n",
        "\n",
        "# Print formatted confusion matrix with labels\n",
        "print(\"\\n Confusion Matrix with More At-Risk Babies in MA:\\n\")\n",
        "print(\"                     Predicted\")\n",
        "print(\"            |  Negative  |  Positive  \")\n",
        "print(\"------------+------------+------------\")\n",
        "print(f\"Actual Neg. |    {TN:5}   |    {FP:5}  |\")\n",
        "print(\"------------+------------+------------\")\n",
        "print(f\"Actual Pos. |    {FN:5}   |    {TP:5}  |\")\n",
        "print(\"------------+------------+------------\")\n",
        "\n",
        "print(f\"Accuracy:             {accuracy_moreRisk:.4f}\")\n",
        "print(f\"Precision:            {precision_moreRisk:.4f}\")\n",
        "print(f\"Recall (Sensitivity): {recall_moreRisk:.4f}\")\n",
        "print(f\"Specificity:          {specificity_moreRisk:.4f}\")\n",
        "print(f\"Average Rate:         {average_rate_moreRisk:.4f}\")  # Proportion of actual at-risk babies\n",
        "print(f\"Enrichment:           {enrichment_moreRisk:.4f} (Relative Precision)\")\n",
        "\n",
        "# Evaluate AUC\n",
        "auc_moreRisk = evaluator.evaluate(dtest_MA_moreRisk)\n",
        "\n",
        "print(f\"AUC: {auc_moreRisk:.4f}\")  # Higher is better (closer to 1)"
      ]
    },
    {
      "cell_type": "markdown",
      "metadata": {
        "id": "P2xYeOf83ZBe"
      },
      "source": [
        "### MA with less at-risk babies\n"
      ]
    },
    {
      "cell_type": "code",
      "execution_count": null,
      "metadata": {
        "colab": {
          "base_uri": "https://localhost:8080/"
        },
        "id": "6lbXw0sa2Gm-",
        "outputId": "af842400-23b2-4082-b568-66f27d86c334"
      },
      "outputs": [
        {
          "name": "stdout",
          "output_type": "stream",
          "text": [
            "\n",
            " Confusion Matrix with Less At-Risk Babies in MA:\n",
            "\n",
            "                     Predicted\n",
            "            |  Negative  |  Positive  \n",
            "------------+------------+------------\n",
            "Actual Neg. |    10774   |     2167  |\n",
            "------------+------------+------------\n",
            "Actual Pos. |      106   |      118  |\n",
            "------------+------------+------------\n",
            "Accuracy:             0.8273\n",
            "Precision:            0.0516\n",
            "Recall (Sensitivity): 0.5268\n",
            "Specificity:          0.8325\n",
            "Average Rate:         0.0170\n",
            "Enrichment:           3.0351 (Relative Precision)\n",
            "AUC: 0.7316\n"
          ]
        }
      ],
      "source": [
        "dtest_MA_lessRisk = assembler_1.transform(dtest_MA_lessRisk)\n",
        "dtest_MA_lessRisk = model_1.transform(dtest_MA_lessRisk)\n",
        "\n",
        "# Compute confusion matrix\n",
        "dtest_MA_lessRisk = dtest_MA_lessRisk.withColumn(\"predicted_class\", when(col(\"prediction\") > .02, 1).otherwise(0))\n",
        "conf_matrix_MA_lessRisk = dtest_MA_lessRisk.groupBy(\"atRisk\", \"predicted_class\").count().orderBy(\"atRisk\", \"predicted_class\")\n",
        "\n",
        "# Collect as a dictionary for easy lookup\n",
        "conf_dict_MA_lessRisk = {(row[\"atRisk\"], row[\"predicted_class\"]): row[\"count\"] for row in conf_matrix_MA_lessRisk.collect()}\n",
        "\n",
        "# Extract values safely (handle missing values if any)\n",
        "TN = conf_dict_MA_lessRisk.get((0, 0), 0)  # True Negative\n",
        "FP = conf_dict_MA_lessRisk.get((0, 1), 0)  # False Positive\n",
        "FN = conf_dict_MA_lessRisk.get((1, 0), 0)  # False Negative\n",
        "TP = conf_dict_MA_lessRisk.get((1, 1), 0)  # True Positive\n",
        "\n",
        "accuracy_lessRisk = (TP + TN) / (TP + FP + FN + TN)\n",
        "precision_lessRisk = TP / (TP + FP)\n",
        "recall_lessRisk = TP / (TP + FN) # (Recall) + (False Negative Rate) = 1\n",
        "specificity_lessRisk = TN / (TN + FP) # (Specificity) + (False Positive Rate) = 1\n",
        "average_rate_lessRisk = (TP + FN) / (TP + TN + FP + FN)  # Proportion of actual at-risk babies\n",
        "enrichment_lessRisk = precision_lessRisk / average_rate_lessRisk\n",
        "\n",
        "# Print formatted confusion matrix with labels\n",
        "print(\"\\n Confusion Matrix with Less At-Risk Babies in MA:\\n\")\n",
        "print(\"                     Predicted\")\n",
        "print(\"            |  Negative  |  Positive  \")\n",
        "print(\"------------+------------+------------\")\n",
        "print(f\"Actual Neg. |    {TN:5}   |    {FP:5}  |\")\n",
        "print(\"------------+------------+------------\")\n",
        "print(f\"Actual Pos. |    {FN:5}   |    {TP:5}  |\")\n",
        "print(\"------------+------------+------------\")\n",
        "\n",
        "print(f\"Accuracy:             {accuracy_lessRisk:.4f}\")\n",
        "print(f\"Precision:            {precision_lessRisk:.4f}\")\n",
        "print(f\"Recall (Sensitivity): {recall_lessRisk:.4f}\")\n",
        "print(f\"Specificity:          {specificity_lessRisk:.4f}\")\n",
        "print(f\"Average Rate:         {average_rate_lessRisk:.4f}\")  # Proportion of actual at-risk babies\n",
        "print(f\"Enrichment:           {enrichment_lessRisk:.4f} (Relative Precision)\")\n",
        "\n",
        "# Evaluate AUC\n",
        "auc_lessRisk = evaluator.evaluate(dtest_MA_lessRisk)\n",
        "\n",
        "print(f\"AUC: {auc_lessRisk:.4f}\")  # Higher is better (closer to 1)"
      ]
    },
    {
      "cell_type": "markdown",
      "metadata": {
        "id": "uHEX0Lyj9qR0"
      },
      "source": [
        "### Performance Comparison"
      ]
    },
    {
      "cell_type": "code",
      "execution_count": null,
      "metadata": {
        "colab": {
          "base_uri": "https://localhost:8080/"
        },
        "id": "3GWLpTgW8qSi",
        "outputId": "dc3a4547-15c2-4d44-a400-096bb1524795"
      },
      "outputs": [
        {
          "name": "stdout",
          "output_type": "stream",
          "text": [
            "+----------------------+--------+----------------------+----------------------+\n",
            "| Metric               |     NY | MA with More At-Risk | MA with Less At-Risk |\n",
            "+----------------------+--------+----------------------+----------------------+\n",
            "| Average Rate         | 0.019  |               0.0205 |        0.017         |\n",
            "| Accuracy             | 0.8266 |               0.8263 |        0.8273        |\n",
            "| Precision            | 0.0566 |               0.061  |        0.0516        |\n",
            "| Recall (Sensitivity) | 0.52   |               0.52   |        0.5268        |\n",
            "| False Negative Rate  | 0.48   |               0.48   |        0.4732        |\n",
            "| Specificity          | 0.8325 |               0.8327 |        0.8325        |\n",
            "| False Positive Rate  | 0.1675 |               0.1673 |        0.1675        |\n",
            "| Enrichment           | 2.9862 |               2.9798 |        3.0351        |\n",
            "| AUC                  | 0.731  |               0.7307 |        0.7316        |\n",
            "+----------------------+--------+----------------------+----------------------+\n"
          ]
        }
      ],
      "source": [
        "# Define baseline, more risk, and less risk metrics\n",
        "baseline_metrics = {\n",
        "    \"Average Rate\": average_rate,\n",
        "    \"Accuracy\": accuracy,\n",
        "    \"Precision\": precision,\n",
        "    \"Recall (Sensitivity)\": recall,\n",
        "    \"False Negative Rate\": 1 - recall,\n",
        "    \"Specificity\": specificity,\n",
        "    \"False Positive Rate\": 1 - specificity,\n",
        "    \"Enrichment\": enrichment,\n",
        "    \"AUC\": auc\n",
        "}\n",
        "\n",
        "more_risk_metrics = {\n",
        "    \"Average Rate\": average_rate_moreRisk,\n",
        "    \"Accuracy\": accuracy_moreRisk,\n",
        "    \"Precision\": precision_moreRisk,\n",
        "    \"Recall (Sensitivity)\": recall_moreRisk,\n",
        "    \"False Negative Rate\": 1 - recall_moreRisk,\n",
        "    \"Specificity\": specificity_moreRisk,\n",
        "    \"False Positive Rate\": 1 - specificity_moreRisk,\n",
        "    \"Enrichment\": enrichment_moreRisk,\n",
        "    \"AUC\": auc_moreRisk\n",
        "}\n",
        "\n",
        "less_risk_metrics = {\n",
        "    \"Average Rate\": average_rate_lessRisk,\n",
        "    \"Accuracy\": accuracy_lessRisk,\n",
        "    \"Precision\": precision_lessRisk,\n",
        "    \"Recall (Sensitivity)\": recall_lessRisk,\n",
        "    \"False Negative Rate\": 1 - recall_lessRisk,\n",
        "    \"Specificity\": specificity_lessRisk,\n",
        "    \"False Positive Rate\": 1 - specificity_lessRisk,\n",
        "    \"Enrichment\": enrichment_lessRisk,\n",
        "    \"AUC\": auc_lessRisk\n",
        "}\n",
        "\n",
        "# Compute percentage change for each scenario\n",
        "percentage_change = {\n",
        "    \"More At-Risk\": [],\n",
        "    \"Less At-Risk\": []\n",
        "}\n",
        "\n",
        "for metric in baseline_metrics.keys():\n",
        "    percentage_change[\"More At-Risk\"].append(more_risk_metrics[metric])\n",
        "    percentage_change[\"Less At-Risk\"].append(less_risk_metrics[metric])\n",
        "\n",
        "# Create a DataFrame including baseline metrics with rounded NY values\n",
        "df_metrics = pd.DataFrame({\n",
        "    \"Metric\": list(baseline_metrics.keys()),\n",
        "    \"NY\": [round(value, 4) for value in baseline_metrics.values()],  # Round US values\n",
        "    \"MA with More At-Risk\": [\n",
        "        round(more_risk_metrics[metric], 4)\n",
        "        for metric in baseline_metrics.keys()\n",
        "    ],\n",
        "    \"MA with Less At-Risk\": [\n",
        "        round(less_risk_metrics[metric], 4)\n",
        "        for metric in baseline_metrics.keys()\n",
        "    ]\n",
        "})\n",
        "\n",
        "# Print formatted table\n",
        "print(tabulate(df_metrics, headers=\"keys\", tablefmt=\"pretty\", showindex=False, colalign=(\"left\", \"decimal\", \"decimal\")))"
      ]
    },
    {
      "cell_type": "code",
      "execution_count": null,
      "metadata": {
        "colab": {
          "base_uri": "https://localhost:8080/"
        },
        "id": "sR9t8_5p7Myi",
        "outputId": "e218955d-5514-4081-f829-71bde5ce5487"
      },
      "outputs": [
        {
          "name": "stdout",
          "output_type": "stream",
          "text": [
            "+----------------------+------+--------------------------+--------------------------+\n",
            "| Metric               |   NY | MA with More At-Risk (%) | MA with Less At-Risk (%) |\n",
            "+----------------------+------+--------------------------+--------------------------+\n",
            "| Average Rate         | 0.02 |                     7.97 |          -10.22          |\n",
            "| Accuracy             | 0.83 |                    -0.04 |           0.09           |\n",
            "| Precision            | 0.06 |                     7.74 |          -8.75           |\n",
            "| Recall (Sensitivity) | 0.52 |                     0.0  |           1.3            |\n",
            "| False Negative Rate  | 0.48 |                     0.0  |          -1.41           |\n",
            "| Specificity          | 0.83 |                     0.02 |           0.0            |\n",
            "| False Positive Rate  | 0.17 |                    -0.09 |           0.0            |\n",
            "| Enrichment           | 2.99 |                    -0.22 |           1.64           |\n",
            "| AUC                  | 0.73 |                    -0.05 |           0.07           |\n",
            "+----------------------+------+--------------------------+--------------------------+\n"
          ]
        }
      ],
      "source": [
        "# Define baseline, more risk, and less risk metrics\n",
        "baseline_metrics = {\n",
        "    \"Average Rate\": average_rate,\n",
        "    \"Accuracy\": accuracy,\n",
        "    \"Precision\": precision,\n",
        "    \"Recall (Sensitivity)\": recall,\n",
        "    \"False Negative Rate\": 1 - recall,\n",
        "    \"Specificity\": specificity,\n",
        "    \"False Positive Rate\": 1 - specificity,\n",
        "    \"Enrichment\": enrichment,\n",
        "    \"AUC\": auc\n",
        "}\n",
        "\n",
        "more_risk_metrics = {\n",
        "    \"Average Rate\": average_rate_moreRisk,\n",
        "    \"Accuracy\": accuracy_moreRisk,\n",
        "    \"Precision\": precision_moreRisk,\n",
        "    \"Recall (Sensitivity)\": recall_moreRisk,\n",
        "    \"False Negative Rate\": 1 - recall_moreRisk,\n",
        "    \"Specificity\": specificity_moreRisk,\n",
        "    \"False Positive Rate\": 1 - specificity_moreRisk,\n",
        "    \"Enrichment\": enrichment_moreRisk,\n",
        "    \"AUC\": auc_moreRisk\n",
        "}\n",
        "\n",
        "less_risk_metrics = {\n",
        "    \"Average Rate\": average_rate_lessRisk,\n",
        "    \"Accuracy\": accuracy_lessRisk,\n",
        "    \"Precision\": precision_lessRisk,\n",
        "    \"Recall (Sensitivity)\": recall_lessRisk,\n",
        "    \"False Negative Rate\": 1 - recall_lessRisk,\n",
        "    \"Specificity\": specificity_lessRisk,\n",
        "    \"False Positive Rate\": 1 - specificity_lessRisk,\n",
        "    \"Enrichment\": enrichment_lessRisk,\n",
        "    \"AUC\": auc_lessRisk\n",
        "}\n",
        "\n",
        "# Compute percentage change for each scenario\n",
        "percentage_change = {\n",
        "    \"More At-Risk (%)\": [],\n",
        "    \"Less At-Risk (%)\": []\n",
        "}\n",
        "\n",
        "for metric in baseline_metrics.keys():\n",
        "    percentage_change[\"More At-Risk (%)\"].append(round(((more_risk_metrics[metric] - baseline_metrics[metric]) / baseline_metrics[metric]) * 100, 2))\n",
        "    percentage_change[\"Less At-Risk (%)\"].append(round(((less_risk_metrics[metric] - baseline_metrics[metric]) / baseline_metrics[metric]) * 100, 2))\n",
        "\n",
        "# Create a DataFrame including baseline metrics with rounded NY values\n",
        "df_metrics = pd.DataFrame({\n",
        "    \"Metric\": list(baseline_metrics.keys()),\n",
        "    \"NY\": [round(value, 2) for value in baseline_metrics.values()],  # Round US values\n",
        "    \"MA with More At-Risk (%)\": [\n",
        "        round(((more_risk_metrics[metric] - baseline_metrics[metric]) / baseline_metrics[metric]) * 100, 2)\n",
        "        for metric in baseline_metrics.keys()\n",
        "    ],\n",
        "    \"MA with Less At-Risk (%)\": [\n",
        "        round(((less_risk_metrics[metric] - baseline_metrics[metric]) / baseline_metrics[metric]) * 100, 2)\n",
        "        for metric in baseline_metrics.keys()\n",
        "    ]\n",
        "})\n",
        "\n",
        "# Print formatted table\n",
        "print(tabulate(df_metrics, headers=\"keys\", tablefmt=\"pretty\", showindex=False, colalign=(\"left\", \"decimal\", \"decimal\")))"
      ]
    }
  ],
  "metadata": {
    "colab": {
      "provenance": [],
      "toc_visible": true
    },
    "kernelspec": {
      "display_name": "Python 3",
      "name": "python3"
    },
    "language_info": {
      "name": "python"
    }
  },
  "nbformat": 4,
  "nbformat_minor": 0
}
